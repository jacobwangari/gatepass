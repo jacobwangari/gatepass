{
 "cells": [
  {
   "cell_type": "code",
   "execution_count": null,
   "metadata": {},
   "outputs": [],
   "source": [
    "from pyfirmata import Arduino, util\n",
    "import time"
   ]
  },
  {
   "cell_type": "code",
   "execution_count": null,
   "metadata": {},
   "outputs": [],
   "source": [
    "board = Arduino('COM3')\n",
    "time.sleep(5)"
   ]
  },
  {
   "cell_type": "code",
   "execution_count": null,
   "metadata": {},
   "outputs": [],
   "source": [
    "pinGreen = board.get_pin('d:11:p')\n",
    "pinRed = board.get_pin('d:10:p')\n",
    "pinBlue = board.get_pin('d:9:p')"
   ]
  },
  {
   "cell_type": "code",
   "execution_count": null,
   "metadata": {},
   "outputs": [],
   "source": [
    "if matches[matchIndex]:\n",
    "    # print(\"Known Face Detected\")\n",
    "    # print(studentIds[matchIndex])\n",
    "    y1, x2, y2, x1 = faceLoc\n",
    "    y1, x2, y2, x1 = y1 * 4, x2 * 4, y2 * 4, x1 * 4\n",
    "    bbox = 55 + x1, 162 + y1, x2 - x1, y2 - y1\n",
    "    imgBackground = cvzone.cornerRect(imgBackground, bbox, rt=0)\n",
    "    id = studentIds[matchIndex]\n",
    "    if counter == 0:\n",
    "        cvzone.putTextRect(imgBackground, \"Loading\", (275, 400))\n",
    "        cv2.imshow(\"Gate Pass System\", imgBackground)\n",
    "        cv2.waitKey(1)\n",
    "        counter = 1\n",
    "        modeType = 1\n",
    "        pinGreen.write(1)  # turn on green LED\n",
    "        pinRed.write(0)  # turn off red LED\n",
    "        pinBlue.write(0)  # turn off blue LED\n",
    "    else:\n",
    "        pinGreen.write(0)  # turn off green LED\n",
    "        pinRed.write(0)  # turn off red LED\n",
    "        pinBlue.write(1)  # turn on blue LED\n",
    "else:\n",
    "    pinGreen.write(0)  # turn off green LED\n",
    "    pinRed.write(1)  # turn on red LED\n",
    "    pinBlue.write(0)  # turn off blue LED"
   ]
  }
 ],
 "metadata": {
  "language_info": {
   "name": "python"
  },
  "orig_nbformat": 4
 },
 "nbformat": 4,
 "nbformat_minor": 2
}
