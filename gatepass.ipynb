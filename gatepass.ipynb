{
 "cells": [
  {
   "cell_type": "markdown",
   "metadata": {},
   "source": [
    "### Gate pass system using open cv as the main library"
   ]
  },
  {
   "cell_type": "markdown",
   "metadata": {},
   "source": [
    "### Python Modules used\n",
    "\n",
    "1. cv2: image processing, specifically for capturing and displaying video from a webcam and reading and writing images.\n",
    "2. face_recognition: provides functions for encoding and recognizing faces in images.\n",
    "3. pickle: saving the encoded faces with student IDs to a file.\n",
    "4. os: listing the files in the specified folder path.\n",
    "5. firebase_admin: initializing the Firebase app and accessing the Firebase database and storage.\n",
    "6. credentials: loading the service account key file.\n",
    "7. db: accessing the database and updating data.\n",
    "8. storage: uploading images to Firebase Storage.\n",
    "9. face_recognition : face recognition, encoding and comparing faces in images.\n",
    "10. cvzone : drawing rectangles and text on images. \n",
    "11. datetime : working with dates and times.    \n",
    "    \n",
    "    \n",
    "    "
   ]
  },
  {
   "cell_type": "code",
   "execution_count": 1,
   "metadata": {},
   "outputs": [],
   "source": [
    "# importing the required modules for database setup\n",
    "import cv2\n",
    "import face_recognition\n",
    "import cvzone\n",
    "import numpy as np\n",
    "from datetime import datetime\n",
    "import firebase_admin\n",
    "from firebase_admin import credentials,storage,db\n",
    "import json\n",
    "import cv2\n",
    "import face_recognition\n",
    "import pickle\n",
    "import os\n",
    "import json"
   ]
  },
  {
   "cell_type": "markdown",
   "metadata": {},
   "source": [
    "### Firebase services\n",
    "\n",
    "Initialize the Firebase app using a service account key JSON file and configures it to use the Firebase Realtime Database.\n",
    "The service account key JSON file *(\"serviceAccountKey.json\")* contains the credentials needed to authenticate the Firebase app."
   ]
  },
  {
   "cell_type": "code",
   "execution_count": 2,
   "metadata": {},
   "outputs": [
    {
     "data": {
      "text/plain": [
       "<firebase_admin.App at 0x1f6e10e32b0>"
      ]
     },
     "execution_count": 2,
     "metadata": {},
     "output_type": "execute_result"
    }
   ],
   "source": [
    "cred = credentials.Certificate(\"serviceAccountKey.json\")\n",
    "firebase_admin.initialize_app(cred, {\n",
    "'databaseURL': \"https://gate-pass-system-c8536-default-rtdb.firebaseio.com/\",\n",
    "    'storageBucket': \"gate-pass-system-c8536.appspot.com\"\n",
    "})\n",
    "   "
   ]
  },
  {
   "cell_type": "markdown",
   "metadata": {},
   "source": [
    "### Setting up the database\n",
    "##### Assumptions made\n",
    "1. For this gatepass system its assumed that the database already exists.\n",
    "2. The college in which the system is to be used has already registered the students and staff.\n",
    "3. To use this system the college/university provides the already setup database\n",
    "\n",
    "**Note :** This database is setup just for demonstartion purposes of the system"
   ]
  },
  {
   "cell_type": "markdown",
   "metadata": {},
   "source": [
    "### Structure of the database\n",
    "\n",
    "Each student record stored in the json file has the following attributes\n",
    "1. name: the name of the student\n",
    "2. course: the course of the student\n",
    "3. starting_year: the year in which the student started attending the university\n",
    "4. total_entrance: the total number of times the student has entered the gate\n",
    "5. standing: the academic standing of the student\n",
    "6. year: the current academic year of the student\n",
    "7. last_entrace_time: the date and time of the student's last attendance\n",
    "\n"
   ]
  },
  {
   "cell_type": "code",
   "execution_count": 3,
   "metadata": {},
   "outputs": [],
   "source": [
    "# Load data from json file\n",
    "with open('data.json') as f:\n",
    "    data = json.load(f)\n",
    "    \n",
    "\n",
    "\n",
    "ref = db.reference('Students')\n",
    "\n",
    "for key, value in data.items():\n",
    "    ref.child(key).set(value)"
   ]
  },
  {
   "cell_type": "markdown",
   "metadata": {},
   "source": [
    "### Handle images\n",
    "Upload images from local repository to an the firebase"
   ]
  },
  {
   "cell_type": "code",
   "execution_count": 4,
   "metadata": {},
   "outputs": [
    {
     "name": "stdout",
     "output_type": "stream",
     "text": [
      "['0123.png', '0124.png', '0125.jpg', '0126.jpg', '0127.png', '0128.jpg', '0129.png', '0130.jpg', '0131.jpg', '963852.png']\n"
     ]
    }
   ],
   "source": [
    "# Define folder path for images\n",
    "folderPath = 'Images'\n",
    "\n",
    "# Get list of image paths in folder\n",
    "pathList = os.listdir(folderPath)\n",
    "print(pathList)\n",
    "\n",
    "# Initialize empty lists for images and student IDs\n",
    "imgList = []\n",
    "studentIds = []\n",
    "\n",
    "# Loop through image paths\n",
    "for path in pathList:\n",
    "    # Read image using OpenCV's imread function and append to image list\n",
    "    imgList.append(cv2.imread(os.path.join(folderPath, path)))\n",
    "    \n",
    "    # Extract student ID from image filename and append to student ID list\n",
    "    studentIds.append(os.path.splitext(path)[0])\n",
    "\n",
    "    # Upload image to Firebase Storage\n",
    "    fileName = f'{folderPath}/{path}'\n",
    "    bucket = storage.bucket()\n",
    "    blob = bucket.blob(fileName)\n",
    "    blob.upload_from_filename(fileName)"
   ]
  },
  {
   "cell_type": "markdown",
   "metadata": {},
   "source": [
    "### Function to encode faces in a list of images"
   ]
  },
  {
   "cell_type": "code",
   "execution_count": 5,
   "metadata": {},
   "outputs": [],
   "source": [
    "def findEncodings(imagesList):\n",
    "    encodeList = []\n",
    "    for img in imagesList:\n",
    "        # Convert image to RGB format using OpenCV's cvtColor function\n",
    "        img = cv2.cvtColor(img, cv2.COLOR_BGR2RGB)\n",
    "        \n",
    "        # Encode face in image using face_recognition's face_encodings function\n",
    "        encode = face_recognition.face_encodings(img)[0]\n",
    "        \n",
    "        # Append encoded face to list of encoded faces\n",
    "        encodeList.append(encode)\n",
    "\n",
    "    # Return list of encoded faces\n",
    "    return encodeList\n",
    "\n"
   ]
  },
  {
   "cell_type": "markdown",
   "metadata": {},
   "source": [
    "### Save the encoded faces with student IDs to file using pickle"
   ]
  },
  {
   "cell_type": "code",
   "execution_count": 6,
   "metadata": {},
   "outputs": [
    {
     "name": "stdout",
     "output_type": "stream",
     "text": [
      "Encoding Complete\n"
     ]
    }
   ],
   "source": [
    "# Encode faces in image list using findEncodings function\n",
    "encodeListKnown = findEncodings(imgList)\n",
    "\n",
    "# Create list of encoded faces with their corresponding student IDs\n",
    "encodeListKnownWithIds = [encodeListKnown, studentIds]\n",
    "\n",
    "# Print message indicating encoding is complete\n",
    "print(\"Encoding Complete\")\n",
    "\n",
    "# Save encoded faces with student IDs to file using pickle\n",
    "file = open(\"EncodeFile.p\", 'wb')\n",
    "pickle.dump(encodeListKnownWithIds, file)\n",
    "file.close()"
   ]
  },
  {
   "cell_type": "markdown",
   "metadata": {},
   "source": [
    "### Capture video using webcam and  load the images used for the UI"
   ]
  },
  {
   "cell_type": "code",
   "execution_count": 7,
   "metadata": {},
   "outputs": [],
   "source": [
    "cap = cv2.VideoCapture(0)\n",
    "cap.set(3, 640)\n",
    "cap.set(4, 480)\n",
    "\n",
    "#Load the background image\n",
    "imgBackground = cv2.imread('Resources/background.png')\n",
    " \n",
    "# Importing the mode images into a list\n",
    "folderModePath = 'Resources/Modes'\n",
    "modePathList = os.listdir(folderModePath)\n",
    "imgModeList = []\n",
    "for path in modePathList:\n",
    "    imgModeList.append(cv2.imread(os.path.join(folderModePath, path)))\n",
    "\n"
   ]
  },
  {
   "cell_type": "markdown",
   "metadata": {},
   "source": [
    "### Load the encoding file"
   ]
  },
  {
   "cell_type": "code",
   "execution_count": 8,
   "metadata": {},
   "outputs": [],
   "source": [
    "file = open('EncodeFile.p', 'rb')\n",
    "encodeListKnownWithIds = pickle.load(file)\n",
    "file.close()\n",
    "encodeListKnown, studentIds = encodeListKnownWithIds\n",
    "\n",
    " \n",
    "modeType = 0\n",
    "counter = 0\n",
    "id = -1\n",
    "imgStudent = []"
   ]
  },
  {
   "cell_type": "markdown",
   "metadata": {},
   "source": [
    "### Main loop of the program\n",
    "The loop:\n",
    "1. Reads frames from a video capture device.\n",
    "2. Resizes and converts the frame to RGB.\n",
    "3. Detects faces in the frame.\n",
    "4. Encodes the faces and compares them to known faces. \n",
    "\n",
    "If a known face is detected, the code retrieves the student's information from a database, updates the attendance record, and displays the student's information and image on the screen."
   ]
  },
  {
   "cell_type": "code",
   "execution_count": 9,
   "metadata": {},
   "outputs": [
    {
     "name": "stdout",
     "output_type": "stream",
     "text": [
      "{'course': 'Computer Science', 'last_entrance_time': '2022-12-11 00:54:34', 'name': 'JacMwas', 'standing': 'G', 'starting_year': 2017, 'total_entrance': 0, 'year': 2}\n",
      "8776942.056347\n",
      "{'course': 'Computer Science', 'last_entrance_time': '2023-03-22 14:56:56', 'name': 'JacMwas', 'standing': 'G', 'starting_year': 2017, 'total_entrance': 1, 'year': 2}\n",
      "17.840425\n",
      "{'course': 'Computer Science', 'last_entrance_time': '2023-03-22 14:56:56', 'name': 'JacMwas', 'standing': 'G', 'starting_year': 2017, 'total_entrance': 1, 'year': 2}\n",
      "19.407222\n",
      "{'course': 'Computer Science', 'last_entrance_time': '2023-03-22 14:56:56', 'name': 'JacMwas', 'standing': 'G', 'starting_year': 2017, 'total_entrance': 1, 'year': 2}\n",
      "21.070073\n",
      "{'course': 'Computer Science', 'last_entrance_time': '2023-03-22 14:56:56', 'name': 'JacMwas', 'standing': 'G', 'starting_year': 2017, 'total_entrance': 1, 'year': 2}\n",
      "22.644954\n",
      "{'course': 'Computer Science', 'last_entrance_time': '2023-03-22 14:56:56', 'name': 'JacMwas', 'standing': 'G', 'starting_year': 2017, 'total_entrance': 1, 'year': 2}\n",
      "24.438856\n"
     ]
    }
   ],
   "source": [
    "while True:\n",
    "       # Wait for a key press\n",
    "    key = cv2.waitKey(1) & 0xFF\n",
    "    \n",
    "    # Check if the 'q' key was pressed\n",
    "    if key == ord('q'):\n",
    "        break\n",
    "\n",
    "    success, img = cap.read()\n",
    " \n",
    "    imgS = cv2.resize(img, (0, 0), None, 0.25, 0.25)\n",
    "    imgS = cv2.cvtColor(imgS, cv2.COLOR_BGR2RGB)\n",
    " \n",
    "    faceCurFrame = face_recognition.face_locations(imgS)\n",
    "    encodeCurFrame = face_recognition.face_encodings(imgS, faceCurFrame)\n",
    " \n",
    "    imgBackground[162:162 + 480, 55:55 + 640] = img\n",
    "    imgBackground[44:44 + 633, 808:808 + 414] = imgModeList[modeType]\n",
    " \n",
    "    if faceCurFrame:\n",
    "        for encodeFace, faceLoc in zip(encodeCurFrame, faceCurFrame):\n",
    "            matches = face_recognition.compare_faces(encodeListKnown, encodeFace)\n",
    "            faceDis = face_recognition.face_distance(encodeListKnown, encodeFace)\n",
    "            # print(\"matches\", matches)\n",
    "            # print(\"faceDis\", faceDis)\n",
    " \n",
    "            matchIndex = np.argmin(faceDis)\n",
    "            # print(\"Match Index\", matchIndex)\n",
    " \n",
    "            if matches[matchIndex]:\n",
    "                # print(\"Known Face Detected\")\n",
    "                # print(studentIds[matchIndex])\n",
    "                y1, x2, y2, x1 = faceLoc\n",
    "                y1, x2, y2, x1 = y1 * 4, x2 * 4, y2 * 4, x1 * 4\n",
    "                bbox = 55 + x1, 162 + y1, x2 - x1, y2 - y1\n",
    "                imgBackground = cvzone.cornerRect(imgBackground, bbox, rt=0)\n",
    "                id = studentIds[matchIndex]\n",
    "                if counter == 0:\n",
    "                    cvzone.putTextRect(imgBackground, \"Loading\", (275, 400))\n",
    "                    cv2.imshow(\"Gate Pass System\", imgBackground)\n",
    "                    cv2.waitKey(1)\n",
    "                    counter = 1\n",
    "                    modeType = 1\n",
    " \n",
    "        if counter != 0:\n",
    " \n",
    "            if counter == 1:\n",
    "                # Get the Data\n",
    "                studentInfo = db.reference(f'Students/{id}').get()\n",
    "                print(studentInfo)\n",
    "                # Get the Image from the storage\n",
    "                blob = bucket.get_blob(f'Images/{id}.png')\n",
    "                array = np.frombuffer(blob.download_as_string(), np.uint8)\n",
    "                imgStudent = cv2.imdecode(array, cv2.COLOR_BGRA2BGR)\n",
    "                # Update data of attendance\n",
    "                datetimeObject = datetime.strptime(studentInfo['last_entrance_time'],\n",
    "                                                   \"%Y-%m-%d %H:%M:%S\")\n",
    "                secondsElapsed = (datetime.now() - datetimeObject).total_seconds()\n",
    "                print(secondsElapsed)\n",
    "                if secondsElapsed > 30:\n",
    "                    ref = db.reference(f'Students/{id}')\n",
    "                    studentInfo['total_entrance'] += 1\n",
    "                    ref.child('total_entrance').set(studentInfo['total_entrance'])\n",
    "                    ref.child('last_entrance_time').set(datetime.now().strftime(\"%Y-%m-%d %H:%M:%S\"))\n",
    "                else:\n",
    "                    modeType = 3\n",
    "                    counter = 0\n",
    "                    imgBackground[44:44 + 633, 808:808 + 414] = imgModeList[modeType]\n",
    " \n",
    "            if modeType != 3:\n",
    " \n",
    "                if 10 < counter < 20:\n",
    "                    modeType = 2\n",
    " \n",
    "                imgBackground[44:44 + 633, 808:808 + 414] = imgModeList[modeType]\n",
    " \n",
    "                if counter <= 10:\n",
    "                    cv2.putText(imgBackground, str(studentInfo['total_entrance']), (861, 125),\n",
    "                                cv2.FONT_HERSHEY_COMPLEX, 1, (255, 255, 255), 1)\n",
    "                    cv2.putText(imgBackground, str(studentInfo['course']), (1006, 550),\n",
    "                                cv2.FONT_HERSHEY_COMPLEX, 0.5, (255, 255, 255), 1)\n",
    "                    cv2.putText(imgBackground, str(id), (1006, 493),\n",
    "                                cv2.FONT_HERSHEY_COMPLEX, 0.5, (255, 255, 255), 1)\n",
    "                    cv2.putText(imgBackground, str(studentInfo['standing']), (910, 625),\n",
    "                                cv2.FONT_HERSHEY_COMPLEX, 0.6, (100, 100, 100), 1)\n",
    "                    cv2.putText(imgBackground, str(studentInfo['year']), (1025, 625),\n",
    "                                cv2.FONT_HERSHEY_COMPLEX, 0.6, (100, 100, 100), 1)\n",
    "                    cv2.putText(imgBackground, str(studentInfo['starting_year']), (1125, 625),\n",
    "                                cv2.FONT_HERSHEY_COMPLEX, 0.6, (100, 100, 100), 1)\n",
    " \n",
    "                    (w, h), _ = cv2.getTextSize(studentInfo['name'], cv2.FONT_HERSHEY_COMPLEX, 1, 1)\n",
    "                    offset = (414 - w) // 2\n",
    "                    cv2.putText(imgBackground, str(studentInfo['name']), (808 + offset, 445),\n",
    "                                cv2.FONT_HERSHEY_COMPLEX, 1, (50, 50, 50), 1)\n",
    " \n",
    "                    imgBackground[175:175 + 216, 909:909 + 216] = imgStudent\n",
    " \n",
    "                counter += 1\n",
    " \n",
    "                if counter >= 20:\n",
    "                    counter = 0\n",
    "                    modeType = 0\n",
    "                    studentInfo = []\n",
    "                    imgStudent = []\n",
    "                    imgBackground[44:44 + 633, 808:808 + 414] = imgModeList[modeType]\n",
    "    else:\n",
    "        modeType = 0\n",
    "        counter = 0\n",
    "    # cv2.imshow(\"Webcam\", img)\n",
    "    cv2.imshow(\"Gate Pass System\", imgBackground)\n",
    "    cv2.waitKey(1)\n",
    "\n",
    "    \n",
    "# Release the video capture and close the window\n",
    "cap.release()\n",
    "cv2.destroyAllWindows()"
   ]
  },
  {
   "cell_type": "code",
   "execution_count": null,
   "metadata": {},
   "outputs": [],
   "source": []
  }
 ],
 "metadata": {
  "kernelspec": {
   "display_name": "Python 3 (ipykernel)",
   "language": "python",
   "name": "python3"
  },
  "language_info": {
   "codemirror_mode": {
    "name": "ipython",
    "version": 3
   },
   "file_extension": ".py",
   "mimetype": "text/x-python",
   "name": "python",
   "nbconvert_exporter": "python",
   "pygments_lexer": "ipython3",
   "version": "3.10.9"
  }
 },
 "nbformat": 4,
 "nbformat_minor": 2
}
